{
 "cells": [
  {
   "cell_type": "code",
   "execution_count": null,
   "metadata": {
    "execution": {
     "iopub.execute_input": "2025-03-23T10:33:28.666920Z",
     "iopub.status.busy": "2025-03-23T10:33:28.666433Z",
     "iopub.status.idle": "2025-03-23T10:33:33.932573Z",
     "shell.execute_reply": "2025-03-23T10:33:33.931726Z",
     "shell.execute_reply.started": "2025-03-23T10:33:28.666867Z"
    },
    "trusted": true
   },
   "outputs": [],
   "source": [
    "!pip install -U ultralytics"
   ]
  },
  {
   "cell_type": "markdown",
   "metadata": {},
   "source": [
    "# **Baixando o dataset**"
   ]
  },
  {
   "cell_type": "code",
   "execution_count": null,
   "metadata": {
    "execution": {
     "iopub.execute_input": "2025-03-23T10:33:36.356045Z",
     "iopub.status.busy": "2025-03-23T10:33:36.355735Z",
     "iopub.status.idle": "2025-03-23T10:33:49.350459Z",
     "shell.execute_reply": "2025-03-23T10:33:49.349812Z",
     "shell.execute_reply.started": "2025-03-23T10:33:36.356020Z"
    },
    "trusted": true
   },
   "outputs": [],
   "source": [
    "!pip install roboflow\n",
    "\n",
    "from roboflow import Roboflow\n",
    "rf = Roboflow(api_key=\"mPBU1v94SGezxUf85k53\")\n",
    "project = rf.workspace(\"marcus-vinicius-kep9s\").project(\"01000100yolo-redux\")\n",
    "version = project.version(1)\n",
    "dataset = version.download(\"yolov11\")"
   ]
  },
  {
   "cell_type": "markdown",
   "metadata": {},
   "source": [
    "# **Checando config da máquina**"
   ]
  },
  {
   "cell_type": "code",
   "execution_count": null,
   "metadata": {
    "execution": {
     "iopub.execute_input": "2025-03-23T10:33:52.022043Z",
     "iopub.status.busy": "2025-03-23T10:33:52.021660Z",
     "iopub.status.idle": "2025-03-23T10:34:01.755768Z",
     "shell.execute_reply": "2025-03-23T10:34:01.754808Z",
     "shell.execute_reply.started": "2025-03-23T10:33:52.021998Z"
    },
    "trusted": true
   },
   "outputs": [],
   "source": [
    "from ultralytics import YOLO\n",
    "import os\n",
    "from IPython.display import display, Image\n",
    "from IPython import display\n",
    "display.clear_output()\n",
    "!yolo checks"
   ]
  },
  {
   "cell_type": "markdown",
   "metadata": {},
   "source": [
    "# **Criando uma pasta \"resultados\" e salvando os resultados nela**"
   ]
  },
  {
   "cell_type": "code",
   "execution_count": null,
   "metadata": {
    "execution": {
     "iopub.execute_input": "2025-03-23T10:34:04.837798Z",
     "iopub.status.busy": "2025-03-23T10:34:04.837040Z",
     "iopub.status.idle": "2025-03-23T10:34:04.968111Z",
     "shell.execute_reply": "2025-03-23T10:34:04.967106Z",
     "shell.execute_reply.started": "2025-03-23T10:34:04.837761Z"
    },
    "trusted": true
   },
   "outputs": [],
   "source": [
    "%mkdir resultados\n",
    "\n",
    "from ultralytics import settings\n",
    "settings.update({'runs_dir': '/kaggle/working/resultados'})\n",
    "settings"
   ]
  },
  {
   "cell_type": "markdown",
   "metadata": {},
   "source": [
    "# **Realizando o treinamento**"
   ]
  },
  {
   "cell_type": "code",
   "execution_count": 5,
   "metadata": {
    "execution": {
     "iopub.execute_input": "2025-03-23T10:34:07.701230Z",
     "iopub.status.busy": "2025-03-23T10:34:07.700921Z",
     "iopub.status.idle": "2025-03-23T10:34:07.704794Z",
     "shell.execute_reply": "2025-03-23T10:34:07.703938Z",
     "shell.execute_reply.started": "2025-03-23T10:34:07.701206Z"
    },
    "trusted": true
   },
   "outputs": [],
   "source": [
    "# Para registrar o tempo de treinamento\n",
    "import time"
   ]
  },
  {
   "cell_type": "markdown",
   "metadata": {},
   "source": [
    "**Dicas de configurações para o futuro**\n",
    "lr0=0.01 lrf=0.2 onecycle=True"
   ]
  },
  {
   "cell_type": "code",
   "execution_count": null,
   "metadata": {
    "execution": {
     "iopub.execute_input": "2025-03-23T10:34:10.387721Z",
     "iopub.status.busy": "2025-03-23T10:34:10.387381Z"
    },
    "trusted": true
   },
   "outputs": [],
   "source": [
    "inicioTreino = time.time()\n",
    "!yolo task=detect mode=train model=yolo11x.pt data=/kaggle/working/01000100YOLO-Redux-1/data.yaml epochs=100 imgsz=640 patience=0 batch=12 workers=8\n",
    "fimTreino = time.time()"
   ]
  },
  {
   "cell_type": "code",
   "execution_count": null,
   "metadata": {
    "execution": {
     "iopub.execute_input": "2025-03-22T21:47:56.450549Z",
     "iopub.status.busy": "2025-03-22T21:47:56.450247Z",
     "iopub.status.idle": "2025-03-22T21:47:56.456173Z",
     "shell.execute_reply": "2025-03-22T21:47:56.455364Z",
     "shell.execute_reply.started": "2025-03-22T21:47:56.450527Z"
    },
    "trusted": true
   },
   "outputs": [],
   "source": [
    "# Tempo em segundos \n",
    "tempoTotal = fimTreino - inicioTreino\n",
    "tempoTotal"
   ]
  },
  {
   "cell_type": "markdown",
   "metadata": {},
   "source": [
    "# **Realizando Validação**"
   ]
  },
  {
   "cell_type": "code",
   "execution_count": null,
   "metadata": {
    "execution": {
     "iopub.execute_input": "2025-03-22T21:47:59.329521Z",
     "iopub.status.busy": "2025-03-22T21:47:59.329211Z",
     "iopub.status.idle": "2025-03-22T21:48:34.324213Z",
     "shell.execute_reply": "2025-03-22T21:48:34.323186Z",
     "shell.execute_reply.started": "2025-03-22T21:47:59.329493Z"
    },
    "trusted": true
   },
   "outputs": [],
   "source": [
    "!yolo task=detect mode=val model=/kaggle/working/resultados/detect/train/weights/best.pt data=/kaggle/working/01000100YOLO-Redux-1/data.yaml"
   ]
  },
  {
   "cell_type": "markdown",
   "metadata": {},
   "source": [
    "# **Realizando Teste**"
   ]
  },
  {
   "cell_type": "code",
   "execution_count": null,
   "metadata": {
    "execution": {
     "iopub.execute_input": "2025-03-22T21:50:57.187720Z",
     "iopub.status.busy": "2025-03-22T21:50:57.187393Z",
     "iopub.status.idle": "2025-03-22T21:51:32.122452Z",
     "shell.execute_reply": "2025-03-22T21:51:32.121352Z",
     "shell.execute_reply.started": "2025-03-22T21:50:57.187696Z"
    },
    "trusted": true
   },
   "outputs": [],
   "source": [
    "!yolo task=detect mode=val model=/kaggle/working/resultados/detect/train/weights/best.pt data=/kaggle/working/01000100YOLO-Redux-1/data.yaml split=test"
   ]
  },
  {
   "cell_type": "markdown",
   "metadata": {},
   "source": [
    "# **Compactando arquivo para download**"
   ]
  },
  {
   "cell_type": "code",
   "execution_count": null,
   "metadata": {
    "execution": {
     "iopub.execute_input": "2025-03-22T21:51:47.621119Z",
     "iopub.status.busy": "2025-03-22T21:51:47.620738Z",
     "iopub.status.idle": "2025-03-22T21:52:00.925417Z",
     "shell.execute_reply": "2025-03-22T21:52:00.924535Z",
     "shell.execute_reply.started": "2025-03-22T21:51:47.621089Z"
    },
    "trusted": true
   },
   "outputs": [],
   "source": [
    "import shutil\n",
    "shutil.make_archive(\"/kaggle/working/arquivo\", 'zip', \"/kaggle/working/resultados\")"
   ]
  }
 ],
 "metadata": {
  "kaggle": {
   "accelerator": "gpu",
   "dataSources": [],
   "dockerImageVersionId": 30886,
   "isGpuEnabled": true,
   "isInternetEnabled": true,
   "language": "python",
   "sourceType": "notebook"
  },
  "kernelspec": {
   "display_name": "Python 3",
   "language": "python",
   "name": "python3"
  },
  "language_info": {
   "codemirror_mode": {
    "name": "ipython",
    "version": 3
   },
   "file_extension": ".py",
   "mimetype": "text/x-python",
   "name": "python",
   "nbconvert_exporter": "python",
   "pygments_lexer": "ipython3",
   "version": "3.10.12"
  }
 },
 "nbformat": 4,
 "nbformat_minor": 4
}
